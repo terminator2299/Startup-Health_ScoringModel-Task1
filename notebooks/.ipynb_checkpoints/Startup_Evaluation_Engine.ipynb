{
  "cells": [
    {
      "cell_type": "code",
      "execution_count": 1,
      "id": "1b9b7c39",
      "metadata": {
        "colab": {
          "base_uri": "https://localhost:8080/",
          "height": 73
        },
        "id": "1b9b7c39",
        "outputId": "5366e71e-05f5-46d6-c068-c7adeab0621b"
      },
      "outputs": [
        {
          "output_type": "execute_result",
          "data": {
            "text/plain": [
              "'\\nStartup Evaluation Engine\\n------------------------\\nThis script simulates a credit-score-like evaluation for startups using a composite scoring methodology.\\n\\nSections:\\n1. Data Loading & Exploration\\n2. Data Preprocessing & Normalization\\n3. Scoring Formula & Feature Weighting\\n4. Ranking & Interpretation\\n5. Visualization\\n6. Documentation & Insights\\n7. Bonus: ML Extension (KMeans Clustering)\\n'"
            ],
            "application/vnd.google.colaboratory.intrinsic+json": {
              "type": "string"
            }
          },
          "metadata": {},
          "execution_count": 1
        }
      ],
      "source": [
        "\"\"\"\n",
        "Startup Evaluation Engine\n",
        "------------------------\n",
        "This script simulates a credit-score-like evaluation for startups using a composite scoring methodology.\n",
        "\n",
        "Sections:\n",
        "1. Data Loading & Exploration\n",
        "2. Data Preprocessing & Normalization\n",
        "3. Scoring Formula & Feature Weighting\n",
        "4. Ranking & Interpretation\n",
        "5. Visualization\n",
        "6. Documentation & Insights\n",
        "7. Bonus: ML Extension (KMeans Clustering)\n",
        "\"\"\""
      ]
    },
    {
      "cell_type": "code",
      "execution_count": 2,
      "id": "4d03d0a6",
      "metadata": {
        "id": "4d03d0a6"
      },
      "outputs": [],
      "source": [
        "import pandas as pd\n",
        "import numpy as np\n",
        "import matplotlib.pyplot as plt\n",
        "import seaborn as sns\n",
        "import os"
      ]
    },
    {
      "cell_type": "code",
      "execution_count": 3,
      "id": "95dbe56f",
      "metadata": {
        "colab": {
          "base_uri": "https://localhost:8080/"
        },
        "id": "95dbe56f",
        "outputId": "34ab06fc-8302-4df4-cc6c-8101d3d34e3a"
      },
      "outputs": [
        {
          "output_type": "stream",
          "name": "stdout",
          "text": [
            "First 5 rows:\n",
            "  startup_id  team_experience  market_size_million_usd  monthly_active_users  \\\n",
            "0       S001                7                      789                 66299   \n",
            "1       S002                4                      939                 34866   \n",
            "2       S003                8                       42                 73630   \n",
            "3       S004                5                       57                 93657   \n",
            "4       S005                7                      512                 61187   \n",
            "\n",
            "   monthly_burn_rate_inr  funds_raised_inr  valuation_inr  \n",
            "0                6091495           4183839      263247468  \n",
            "1                9106842            666326      172927107  \n",
            "2                8817088            649150      313090455  \n",
            "3                6374167          20153173      305887183  \n",
            "4                 841971            118834       84815222  \n"
          ]
        }
      ],
      "source": [
        "# 1. Data Loading & Exploration\n",
        "# -----------------------------\n",
        "# Load the dataset into a pandas DataFrame for analysis.\n",
        "DATA_PATH = '../Startup_Scoring_Dataset.csv' if os.path.exists('../Startup_Scoring_Dataset.csv') else 'Startup_Scoring_Dataset.csv'\n",
        "df = pd.read_csv(DATA_PATH)\n",
        "print('First 5 rows:')\n",
        "print(df.head())"
      ]
    },
    {
      "cell_type": "code",
      "execution_count": 4,
      "id": "ff33b8c1",
      "metadata": {
        "id": "ff33b8c1"
      },
      "outputs": [],
      "source": [
        "# 2. Data Preprocessing & Normalization\n",
        "# -------------------------------------\n",
        "# Normalize all numeric columns to a 0-1 range using Min-Max normalization.\n",
        "# For negatively correlated metrics (like burn rate), invert the normalization so lower is better.\n",
        "good_cols = ['team_experience', 'market_size_million_usd', 'monthly_active_users', 'funds_raised_inr', 'valuation_inr']  # Higher is better\n",
        "bad_cols = ['monthly_burn_rate_inr']  # Higher is worse"
      ]
    },
    {
      "cell_type": "code",
      "execution_count": 5,
      "id": "4bcd55de",
      "metadata": {
        "id": "4bcd55de"
      },
      "outputs": [],
      "source": [
        "# Normalize 'good' columns (higher is better)\n",
        "for col in good_cols:\n",
        "    df[col + '_norm'] = (df[col] - df[col].min()) / (df[col].max() - df[col].min())\n",
        "# Normalize and invert 'bad' columns (higher is worse)\n",
        "for col in bad_cols:\n",
        "    df[col + '_norm'] = 1 - (df[col] - df[col].min()) / (df[col].max() - df[col].min())"
      ]
    },
    {
      "cell_type": "code",
      "execution_count": 6,
      "id": "4d9bedb8",
      "metadata": {
        "colab": {
          "base_uri": "https://localhost:8080/"
        },
        "id": "4d9bedb8",
        "outputId": "2788219d-6950-4ccd-9a83-6fbde0537566"
      },
      "outputs": [
        {
          "output_type": "stream",
          "name": "stdout",
          "text": [
            "\n",
            "Normalized columns:\n",
            "   team_experience_norm  market_size_million_usd_norm  \\\n",
            "0              0.666667                      0.789206   \n",
            "1              0.333333                      0.941955   \n",
            "2              0.777778                      0.028513   \n",
            "3              0.444444                      0.043788   \n",
            "4              0.666667                      0.507128   \n",
            "\n",
            "   monthly_active_users_norm  funds_raised_inr_norm  valuation_inr_norm  \\\n",
            "0                   0.669162               0.082061            0.518992   \n",
            "1                   0.347274               0.011052            0.333843   \n",
            "2                   0.744235               0.010706            0.621166   \n",
            "3                   0.949320               0.404435            0.606400   \n",
            "4                   0.616813               0.000000            0.153220   \n",
            "\n",
            "   monthly_burn_rate_inr_norm  \n",
            "0                    0.393230  \n",
            "1                    0.084439  \n",
            "2                    0.114112  \n",
            "3                    0.364283  \n",
            "4                    0.930815  \n"
          ]
        }
      ],
      "source": [
        "print('\\nNormalized columns:')\n",
        "print(df[[c+'_norm' for c in good_cols + bad_cols]].head())"
      ]
    },
    {
      "cell_type": "code",
      "execution_count": 7,
      "id": "8309fff8",
      "metadata": {
        "id": "8309fff8"
      },
      "outputs": [],
      "source": [
        "# 3. Scoring Formula & Feature Weighting\n",
        "# --------------------------------------\n",
        "# Assign weights to each feature based on business logic and perceived impact.\n",
        "# The sum of weights should be 1.0 (or 100% when scaled).\n",
        "weights = {\n",
        "    'team_experience_norm': 0.15,           # Team quality\n",
        "    'market_size_million_usd_norm': 0.20,   # Market opportunity\n",
        "    'monthly_active_users_norm': 0.25,      # Traction\n",
        "    'monthly_burn_rate_inr_norm': 0.10,     # Efficiency (inverted)\n",
        "    'funds_raised_inr_norm': 0.10,          # Fundraising\n",
        "    'valuation_inr_norm': 0.20              # Perceived value\n",
        "}"
      ]
    },
    {
      "cell_type": "code",
      "execution_count": 8,
      "id": "581abfba",
      "metadata": {
        "colab": {
          "base_uri": "https://localhost:8080/"
        },
        "id": "581abfba",
        "outputId": "8a022113-e95b-4def-cb8e-92aded24cf02"
      },
      "outputs": [
        {
          "output_type": "stream",
          "name": "stdout",
          "text": [
            "\n",
            "Composite scores:\n",
            "  startup_id  composite_score\n",
            "0       S001        57.645910\n",
            "1       S002        40.152721\n",
            "2       S003        44.514294\n",
            "3       S004        51.090609\n",
            "4       S005        47.935444\n"
          ]
        }
      ],
      "source": [
        "# Compute the composite score as a weighted sum, scaled to 100.\n",
        "df['composite_score'] = sum(df[col] * w for col, w in weights.items()) * 100\n",
        "print('\\nComposite scores:')\n",
        "print(df[['startup_id', 'composite_score']].head())"
      ]
    },
    {
      "cell_type": "code",
      "execution_count": 9,
      "id": "73c9c1fe",
      "metadata": {
        "id": "73c9c1fe"
      },
      "outputs": [],
      "source": [
        "# 4. Ranking & Interpretation\n",
        "# ---------------------------\n",
        "# Rank startups by their composite score. Identify top and bottom performers.\n",
        "df_sorted = df.sort_values('composite_score', ascending=False).reset_index(drop=True)\n",
        "top10 = df_sorted.head(10)\n",
        "bottom10 = df_sorted.tail(10)"
      ]
    },
    {
      "cell_type": "code",
      "execution_count": 10,
      "id": "e6cc458d",
      "metadata": {
        "colab": {
          "base_uri": "https://localhost:8080/"
        },
        "id": "e6cc458d",
        "outputId": "a20968d0-f7b5-4498-9c75-e48c7ab86d96"
      },
      "outputs": [
        {
          "output_type": "stream",
          "name": "stdout",
          "text": [
            "\n",
            "Top 10 Startups:\n",
            "  startup_id  composite_score\n",
            "0       S006        79.157433\n",
            "1       S045        76.437558\n",
            "2       S077        76.391682\n",
            "3       S033        73.918777\n",
            "4       S029        73.364384\n",
            "5       S097        73.091131\n",
            "6       S013        72.604364\n",
            "7       S012        69.856259\n",
            "8       S008        68.773096\n",
            "9       S043        68.474004\n",
            "\n",
            "Bottom 10 Startups:\n",
            "   startup_id  composite_score\n",
            "90       S051        33.119537\n",
            "91       S017        32.799997\n",
            "92       S093        32.231949\n",
            "93       S079        31.667025\n",
            "94       S074        30.770841\n",
            "95       S058        30.250202\n",
            "96       S098        26.344424\n",
            "97       S084        25.842748\n",
            "98       S023        24.231122\n",
            "99       S055        19.174274\n"
          ]
        }
      ],
      "source": [
        "print('\\nTop 10 Startups:')\n",
        "print(top10[['startup_id', 'composite_score']])\n",
        "print('\\nBottom 10 Startups:')\n",
        "print(bottom10[['startup_id', 'composite_score']])"
      ]
    },
    {
      "cell_type": "code",
      "execution_count": 11,
      "id": "8356f5da",
      "metadata": {
        "colab": {
          "base_uri": "https://localhost:8080/"
        },
        "id": "8356f5da",
        "outputId": "a5a6c7e8-3b42-4f21-d3af-e771f988394e"
      },
      "outputs": [
        {
          "output_type": "stream",
          "name": "stdout",
          "text": [
            "\n",
            "Top Scorer: S006\n",
            " startup_id                           S006\n",
            "team_experience                        10\n",
            "market_size_million_usd               416\n",
            "monthly_active_users                95939\n",
            "monthly_burn_rate_inr              551157\n",
            "funds_raised_inr                 48939582\n",
            "valuation_inr                   307433345\n",
            "team_experience_norm                  1.0\n",
            "market_size_million_usd_norm     0.409369\n",
            "monthly_active_users_norm        0.972689\n",
            "funds_raised_inr_norm            0.985549\n",
            "valuation_inr_norm               0.609569\n",
            "monthly_burn_rate_inr_norm       0.960596\n",
            "composite_score                 79.157433\n",
            "Name: 0, dtype: object\n",
            "\n",
            "Bottom Scorer: S051\n",
            " startup_id                           S051\n",
            "team_experience                         3\n",
            "market_size_million_usd               180\n",
            "monthly_active_users                51763\n",
            "monthly_burn_rate_inr             3501356\n",
            "funds_raised_inr                  6095929\n",
            "valuation_inr                   146815208\n",
            "team_experience_norm             0.222222\n",
            "market_size_million_usd_norm     0.169043\n",
            "monthly_active_users_norm        0.520307\n",
            "funds_raised_inr_norm             0.12066\n",
            "valuation_inr_norm               0.280315\n",
            "monthly_burn_rate_inr_norm       0.658477\n",
            "composite_score                 33.119537\n",
            "Name: 90, dtype: object\n"
          ]
        }
      ],
      "source": [
        "# Example: Print details for the top and bottom scorer for interpretation.\n",
        "top_row = top10.iloc[0]\n",
        "bottom_row = bottom10.iloc[0]\n",
        "print(f\"\\nTop Scorer: {top_row['startup_id']}\\n\", top_row)\n",
        "print(f\"\\nBottom Scorer: {bottom_row['startup_id']}\\n\", bottom_row)"
      ]
    },
    {
      "cell_type": "code",
      "execution_count": 12,
      "id": "0011bd39",
      "metadata": {
        "id": "0011bd39"
      },
      "outputs": [],
      "source": [
        "# 5. Visualization\n",
        "# ----------------\n",
        "# Create output directory if it doesn't exist.\n",
        "os.makedirs('../outputs', exist_ok=True) if os.path.exists('../outputs') else os.makedirs('outputs', exist_ok=True)\n",
        "OUTPUT_DIR = '../outputs' if os.path.exists('../outputs') else 'outputs'"
      ]
    },
    {
      "cell_type": "code",
      "execution_count": 13,
      "id": "5bc2640d",
      "metadata": {
        "id": "5bc2640d"
      },
      "outputs": [],
      "source": [
        "# Bar chart: Composite scores for all startups, sorted.\n",
        "plt.figure(figsize=(14,4))\n",
        "plt.bar(df_sorted['startup_id'], df_sorted['composite_score'])\n",
        "plt.title('Startup Composite Scores (Sorted)')\n",
        "plt.xlabel('Startup ID')\n",
        "plt.ylabel('Score')\n",
        "plt.tight_layout()\n",
        "plt.savefig(os.path.join(OUTPUT_DIR, 'bar_chart_scores.png'))\n",
        "plt.close()"
      ]
    },
    {
      "cell_type": "code",
      "execution_count": 14,
      "id": "a67533ea",
      "metadata": {
        "id": "a67533ea"
      },
      "outputs": [],
      "source": [
        "# Correlation heatmap: Shows relationships between normalized features.\n",
        "plt.figure(figsize=(8,6))\n",
        "sns.heatmap(df[[c+'_norm' for c in good_cols + bad_cols]].corr(), annot=True, cmap='coolwarm')\n",
        "plt.title('Correlation Heatmap (Normalized Features)')\n",
        "plt.tight_layout()\n",
        "plt.savefig(os.path.join(OUTPUT_DIR, 'correlation_heatmap.png'))\n",
        "plt.close()"
      ]
    },
    {
      "cell_type": "code",
      "execution_count": 15,
      "id": "8c15b5d0",
      "metadata": {
        "id": "8c15b5d0"
      },
      "outputs": [],
      "source": [
        "# Score distribution: Histogram of composite scores.\n",
        "plt.figure(figsize=(8,4))\n",
        "sns.histplot(df['composite_score'], bins=20, kde=True)\n",
        "plt.title('Score Distribution')\n",
        "plt.xlabel('Composite Score')\n",
        "plt.ylabel('Frequency')\n",
        "plt.tight_layout()\n",
        "plt.savefig(os.path.join(OUTPUT_DIR, 'score_distribution.png'))\n",
        "plt.close()"
      ]
    },
    {
      "cell_type": "code",
      "execution_count": 16,
      "id": "c422db92",
      "metadata": {
        "id": "c422db92"
      },
      "outputs": [],
      "source": [
        "# 6. Documentation & Insights\n",
        "# ---------------------------\n",
        "# Append key insights and methodology to the README for transparency.\n",
        "with open('README.md', 'a') as f:\n",
        "    f.write('\\n\\n## Insights from Analysis (auto-appended)\\n')\n",
        "    f.write('- Weights chosen based on perceived business impact (traction, market, team, etc.).\\n')\n",
        "    f.write('- Burn Rate is inverted so lower burn is better.\\n')\n",
        "    f.write('- See script output and plots in outputs/ for more details.\\n')"
      ]
    },
    {
      "cell_type": "code",
      "execution_count": 17,
      "id": "d22cee9e",
      "metadata": {
        "colab": {
          "base_uri": "https://localhost:8080/"
        },
        "id": "d22cee9e",
        "outputId": "65a5625f-5219-4595-84ba-567399f78242"
      },
      "outputs": [
        {
          "output_type": "stream",
          "name": "stdout",
          "text": [
            "\n",
            "Plots saved to outputs/.\n",
            "Documentation appended to README.md.\n"
          ]
        }
      ],
      "source": [
        "print(f\"\\nPlots saved to {OUTPUT_DIR}/.\\nDocumentation appended to README.md.\")"
      ]
    },
    {
      "cell_type": "code",
      "execution_count": 18,
      "id": "34cd6f55",
      "metadata": {
        "id": "34cd6f55"
      },
      "outputs": [],
      "source": [
        "# 7. Bonus: ML Extension - Clustering Startups with KMeans\n",
        "# --------------------------------------------------------\n",
        "# Cluster startups into archetypes using KMeans on normalized features.\n",
        "# Visualize clusters using PCA for dimensionality reduction.\n",
        "from sklearn.cluster import KMeans\n",
        "from sklearn.decomposition import PCA"
      ]
    },
    {
      "cell_type": "code",
      "execution_count": 19,
      "id": "8f0db217",
      "metadata": {
        "id": "8f0db217"
      },
      "outputs": [],
      "source": [
        "# Prepare data for clustering (normalized features only)\n",
        "feature_cols = [c+'_norm' for c in good_cols + bad_cols]\n",
        "X = df[feature_cols]"
      ]
    },
    {
      "cell_type": "code",
      "execution_count": 20,
      "id": "21b8acf9",
      "metadata": {
        "id": "21b8acf9"
      },
      "outputs": [],
      "source": [
        "# Choose number of clusters (e.g., 3 archetypes)\n",
        "n_clusters = 3\n",
        "kmeans = KMeans(n_clusters=n_clusters, random_state=42, n_init=10)\n",
        "df['cluster'] = kmeans.fit_predict(X)"
      ]
    },
    {
      "cell_type": "code",
      "execution_count": 21,
      "id": "63e26878",
      "metadata": {
        "id": "63e26878"
      },
      "outputs": [],
      "source": [
        "# Reduce to 2D for visualization using PCA\n",
        "pca = PCA(n_components=2)\n",
        "X_pca = pca.fit_transform(X)\n",
        "df['pca1'] = X_pca[:,0]\n",
        "df['pca2'] = X_pca[:,1]"
      ]
    },
    {
      "cell_type": "code",
      "execution_count": 22,
      "id": "4cbfdaf8",
      "metadata": {
        "id": "4cbfdaf8"
      },
      "outputs": [],
      "source": [
        "# Plot clusters in PCA-reduced space\n",
        "plt.figure(figsize=(8,6))\n",
        "for i in range(n_clusters):\n",
        "    plt.scatter(df[df['cluster']==i]['pca1'], df[df['cluster']==i]['pca2'], label=f'Cluster {i}')\n",
        "plt.title('Startup Clusters (KMeans, PCA-reduced)')\n",
        "plt.xlabel('PCA Component 1')\n",
        "plt.ylabel('PCA Component 2')\n",
        "plt.legend()\n",
        "plt.tight_layout()\n",
        "plt.savefig(os.path.join(OUTPUT_DIR, 'kmeans_clusters.png'))\n",
        "plt.close()"
      ]
    },
    {
      "cell_type": "code",
      "execution_count": 23,
      "id": "67a82429",
      "metadata": {
        "colab": {
          "base_uri": "https://localhost:8080/"
        },
        "id": "67a82429",
        "outputId": "528b395c-ae24-4695-bff1-e9a00368c491"
      },
      "outputs": [
        {
          "output_type": "stream",
          "name": "stdout",
          "text": [
            "\n",
            "KMeans Cluster Centers (mean normalized features):\n",
            "         team_experience_norm  market_size_million_usd_norm  \\\n",
            "cluster                                                       \n",
            "0                    0.810700                      0.555970   \n",
            "1                    0.669591                      0.431022   \n",
            "2                    0.206349                      0.658278   \n",
            "\n",
            "         monthly_active_users_norm  funds_raised_inr_norm  valuation_inr_norm  \\\n",
            "cluster                                                                         \n",
            "0                         0.692417               0.787386            0.487732   \n",
            "1                         0.428742               0.148298            0.527580   \n",
            "2                         0.493962               0.526393            0.348438   \n",
            "\n",
            "         monthly_burn_rate_inr_norm  composite_score  \n",
            "cluster                                               \n",
            "0                          0.535097        63.569803  \n",
            "1                          0.480644        46.223855  \n",
            "2                          0.428681        45.129349  \n"
          ]
        }
      ],
      "source": [
        "# Show mean feature values for each cluster (archetype profile)\n",
        "grouped = df.groupby('cluster')[feature_cols + ['composite_score']].mean()\n",
        "print('\\nKMeans Cluster Centers (mean normalized features):')\n",
        "print(grouped)"
      ]
    },
    {
      "cell_type": "code",
      "execution_count": 24,
      "id": "526ac098",
      "metadata": {
        "id": "526ac098"
      },
      "outputs": [],
      "source": [
        "# Append clustering explanation and summary to README\n",
        "with open('README.md', 'a') as f:\n",
        "    f.write('\\n\\n## Bonus: ML Extension - Startup Clustering\\n')\n",
        "    f.write('We applied KMeans clustering (k=3) to the normalized features to identify archetypes among startups.\\n')\n",
        "    f.write('Clusters were visualized using PCA for dimensionality reduction.\\n')\n",
        "    f.write('Cluster centers (mean feature values) reveal typical profiles, e.g., high-growth/low-burn, high-burn/low-traction, etc.\\n')\n",
        "    f.write('See the plot in outputs/kmeans_clusters.png and the summary table below.\\n')\n",
        "    f.write('\\n\\nCluster Centers (mean normalized features):\\n')\n",
        "    f.write(grouped.to_string())\n",
        "    f.write('\\n')"
      ]
    },
    {
      "cell_type": "code",
      "execution_count": 25,
      "id": "d5d84eb0",
      "metadata": {
        "colab": {
          "base_uri": "https://localhost:8080/"
        },
        "id": "d5d84eb0",
        "outputId": "2cdff189-fd03-41d5-eba0-185e1922c7f1"
      },
      "outputs": [
        {
          "output_type": "stream",
          "name": "stdout",
          "text": [
            "\n",
            "KMeans clustering complete. Cluster plot saved to outputs/kmeans_clusters.png. Explanation appended to README.md.\n"
          ]
        }
      ],
      "source": [
        "print(f\"\\nKMeans clustering complete. Cluster plot saved to {OUTPUT_DIR}/kmeans_clusters.png. Explanation appended to README.md.\")"
      ]
    }
  ],
  "metadata": {
    "jupytext": {
      "cell_metadata_filter": "-all",
      "main_language": "python",
      "notebook_metadata_filter": "-all"
    },
    "kernelspec": {
      "display_name": "Python 3 (ipykernel)",
      "language": "python",
      "name": "python3"
    },
    "colab": {
      "provenance": []
    }
  },
  "nbformat": 4,
  "nbformat_minor": 5
}